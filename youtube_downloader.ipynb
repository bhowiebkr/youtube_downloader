{
  "nbformat": 4,
  "nbformat_minor": 0,
  "metadata": {
    "colab": {
      "name": "youtube_downloader.ipynb",
      "provenance": [],
      "collapsed_sections": [],
      "include_colab_link": true
    },
    "kernelspec": {
      "name": "python3",
      "display_name": "Python 3"
    }
  },
  "cells": [
    {
      "cell_type": "markdown",
      "metadata": {
        "id": "view-in-github",
        "colab_type": "text"
      },
      "source": [
        "<a href=\"https://colab.research.google.com/github/bhowiebkr/youtube_downloader/blob/master/youtube_downloader.ipynb\" target=\"_parent\"><img src=\"https://colab.research.google.com/assets/colab-badge.svg\" alt=\"Open In Colab\"/></a>"
      ]
    },
    {
      "cell_type": "markdown",
      "metadata": {
        "id": "6ParKS5wqNeF",
        "colab_type": "text"
      },
      "source": [
        "# YouTube Music Downloader\n",
        "This tool will download the music from a single video or then entire channel. This uses the [youtube_dl](https://pypi.org/project/youtube_dl/) library. Saved files will most likely be saved as **\".webm\"** as that was the original container on YouTube. Use a player like **VLC** to play the files after downloading from your Google Drive."
      ]
    },
    {
      "cell_type": "markdown",
      "metadata": {
        "id": "8GDfPuxFrQP7",
        "colab_type": "text"
      },
      "source": [
        "Change the **URL** below to what you want to download."
      ]
    },
    {
      "cell_type": "code",
      "metadata": {
        "id": "uYI_b6JrmIgp",
        "colab_type": "code",
        "colab": {},
        "cellView": "form"
      },
      "source": [
        "#@title YouTube Video or Channel URL:\n",
        "url = 'https://www.youtube.com/watch?v=SIO1HphP0xs' #@param {type:\"string\"}"
      ],
      "execution_count": 0,
      "outputs": []
    },
    {
      "cell_type": "markdown",
      "metadata": {
        "id": "NIe5uINGpTTs",
        "colab_type": "text"
      },
      "source": [
        "# Authorize Google Drive"
      ]
    },
    {
      "cell_type": "code",
      "metadata": {
        "id": "8S0x3W0UnY91",
        "colab_type": "code",
        "colab": {},
        "cellView": "both"
      },
      "source": [
        "#@title\n",
        "from google.colab import drive\n",
        "drive.mount('/content/drive')"
      ],
      "execution_count": 0,
      "outputs": []
    },
    {
      "cell_type": "markdown",
      "metadata": {
        "id": "Mo7NMOcMphPm",
        "colab_type": "text"
      },
      "source": [
        "## Install the downloader"
      ]
    },
    {
      "cell_type": "code",
      "metadata": {
        "id": "0ouHAMKFl5f-",
        "colab_type": "code",
        "colab": {}
      },
      "source": [
        "%%capture\n",
        "!pip install youtube_dl"
      ],
      "execution_count": 0,
      "outputs": []
    },
    {
      "cell_type": "markdown",
      "metadata": {
        "id": "hxil9SvqpnDx",
        "colab_type": "text"
      },
      "source": [
        "## Create the music folder in Google Drive if it's missing"
      ]
    },
    {
      "cell_type": "code",
      "metadata": {
        "id": "J-4iJxVymERN",
        "colab_type": "code",
        "colab": {}
      },
      "source": [
        "import os\n",
        "music_folder = '/content/drive/My Drive/Music'\n",
        "\n",
        "# Create the Music folder if it's missing\n",
        "if not os.path.exists(music_folder):\n",
        "  os.mkdir(music_folder)\n",
        "  print('Music folder in Google Drive created.')"
      ],
      "execution_count": 0,
      "outputs": []
    },
    {
      "cell_type": "markdown",
      "metadata": {
        "id": "gvMeYCn4ptBU",
        "colab_type": "text"
      },
      "source": [
        "# Download"
      ]
    },
    {
      "cell_type": "code",
      "metadata": {
        "id": "CBdIPeJloozk",
        "colab_type": "code",
        "colab": {}
      },
      "source": [
        " import youtube_dl\n",
        "\n",
        "# Best audio, ignore any errors, etc.\n",
        " params = {\n",
        "        \"format\": \"bestaudio/best\",\n",
        "        \"outtmpl\": music_folder + \"/%(uploader)s/%(title)s.%(ext)s\",\n",
        "        \"ignoreerrors\": True,\n",
        "    }\n",
        "\n",
        "with youtube_dl.YoutubeDL(params=params) as ydl:\n",
        "  ydl.extract_info(url, download=True)"
      ],
      "execution_count": 0,
      "outputs": []
    }
  ]
}